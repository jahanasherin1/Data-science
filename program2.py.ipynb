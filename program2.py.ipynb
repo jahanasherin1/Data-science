{
 "cells": [
  {
   "cell_type": "code",
   "execution_count": 3,
   "id": "e26024a6-735e-4cc7-a2ff-93fb182b1712",
   "metadata": {},
   "outputs": [
    {
     "name": "stdout",
     "output_type": "stream",
     "text": [
      "Matrix a:\n",
      " [[1 2]\n",
      " [3 4]]\n",
      "Matrix b:\n",
      " [[5 6]\n",
      " [7 8]]\n",
      "\n",
      "Addition:\n",
      " [[ 6  8]\n",
      " [10 12]]\n",
      "Subtraction:\n",
      " [[-4 -4]\n",
      " [-4 -4]]\n",
      "Multiplication:\n",
      " [[ 5 12]\n",
      " [21 32]]\n",
      "Transpose:\n",
      " [[1 3]\n",
      " [2 4]]\n",
      "Dot product:\n",
      " [[19 22]\n",
      " [43 50]]\n"
     ]
    }
   ],
   "source": [
    "import numpy as np\n",
    "\n",
    "a=np.array([[1,2],[3,4]])\n",
    "b=np.array([[5,6],[7,8]])\n",
    "\n",
    "add=a+b\n",
    "sub=a-b\n",
    "mul=a*b\n",
    "trans=a.T\n",
    "dot=a@b\n",
    "\n",
    "print(\"Matrix a:\\n\", a)\n",
    "print(\"Matrix b:\\n\", b)\n",
    "\n",
    "print(\"\\nAddition:\\n\",add)\n",
    "print(\"Subtraction:\\n\",sub)\n",
    "print(\"Multiplication:\\n\",mul)\n",
    "print(\"Transpose:\\n\",trans)\n",
    "print(\"Dot product:\\n\",dot)\n",
    "\n"
   ]
  },
  {
   "cell_type": "code",
   "execution_count": 3,
   "id": "e6104549-85c2-4cc3-b344-59e48cc54982",
   "metadata": {},
   "outputs": [
    {
     "name": "stdout",
     "output_type": "stream",
     "text": [
      "Original matrix:\n",
      "[[1 2 3]\n",
      " [4 5 6]\n",
      " [7 8 9]]\n",
      "\n",
      "Reconstructed Matrix (with reduced dimensions):\n",
      "[[1. 2. 3.]\n",
      " [4. 5. 6.]\n",
      " [7. 8. 9.]]\n"
     ]
    }
   ],
   "source": [
    "import numpy as np\n",
    "X=np.array([[1,2,3],[4,5,6],[7,8,9]])\n",
    "U,S,VT=np.linalg.svd(X)\n",
    "n_components=2\n",
    "X_reconstructed=np.dot(U[:,:n_components],np.dot(np.diag(S[:n_components]),VT[:n_components,:]))\n",
    "print(\"Original matrix:\")\n",
    "print(X)\n",
    "print(\"\\nReconstructed Matrix (with reduced dimensions):\")\n",
    "print(X_reconstructed)\n",
    "                       "
   ]
  },
  {
   "cell_type": "code",
   "execution_count": null,
   "id": "9de98e22-8788-439f-bfc9-a369fc3cb82d",
   "metadata": {},
   "outputs": [],
   "source": []
  }
 ],
 "metadata": {
  "kernelspec": {
   "display_name": "Python 3 (ipykernel)",
   "language": "python",
   "name": "python3"
  },
  "language_info": {
   "codemirror_mode": {
    "name": "ipython",
    "version": 3
   },
   "file_extension": ".py",
   "mimetype": "text/x-python",
   "name": "python",
   "nbconvert_exporter": "python",
   "pygments_lexer": "ipython3",
   "version": "3.11.9"
  }
 },
 "nbformat": 4,
 "nbformat_minor": 5
}
