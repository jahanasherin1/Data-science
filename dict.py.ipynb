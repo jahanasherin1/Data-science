{
 "cells": [
  {
   "cell_type": "code",
   "execution_count": 1,
   "id": "22fe7ecd-ac3e-4802-9446-261140be3668",
   "metadata": {},
   "outputs": [
    {
     "name": "stdout",
     "output_type": "stream",
     "text": [
      "Dict1 : {1: 'jahana', 2: 'sherin'}\n",
      "Dict2 : {3: 'frina', 4: 'pv'}\n",
      "Merged dict : {1: 'jahana', 2: 'sherin', 3: 'frina', 4: 'pv'}\n"
     ]
    }
   ],
   "source": [
    "d1 = {1: 'jahana', 2: 'sherin'}\n",
    "d2 = {3: 'frina', 4 : 'pv'}\n",
    "\n",
    "print(\"Dict1 :\",d1)\n",
    "print(\"Dict2 :\",d2)\n",
    "\n",
    "merge_dict=d1.copy()\n",
    "merge_dict.update(d2)\n",
    "\n",
    "print(\"Merged dict :\",merge_dict)"
   ]
  },
  {
   "cell_type": "code",
   "execution_count": 3,
   "id": "3a83278f-5d12-4cb8-ae6a-683718824aa9",
   "metadata": {},
   "outputs": [
    {
     "name": "stdin",
     "output_type": "stream",
     "text": [
      "Enter numbers for the first list:  1,2,3,4,5\n",
      "Enter numbers for the second list:  1,3,5,7\n"
     ]
    },
    {
     "name": "stdout",
     "output_type": "stream",
     "text": [
      "Common number found: True\n"
     ]
    }
   ],
   "source": [
    "l1 = list(map(int, input(\"Enter numbers for the first list: \").split(',')))\n",
    "\n",
    "l2 = list(map(int, input(\"Enter numbers for the second list: \").split(',')))\n",
    "\n",
    "common_found = False\n",
    "for num in l1:\n",
    "    if num in l2:\n",
    "        common_found = True\n",
    "        break\n",
    "\n",
    "print(\"Common number found:\", common_found)"
   ]
  },
  {
   "cell_type": "code",
   "execution_count": null,
   "id": "835c9b5b-51f4-44a7-86b6-1da14abf7fe4",
   "metadata": {},
   "outputs": [],
   "source": []
  }
 ],
 "metadata": {
  "kernelspec": {
   "display_name": "Python 3 (ipykernel)",
   "language": "python",
   "name": "python3"
  },
  "language_info": {
   "codemirror_mode": {
    "name": "ipython",
    "version": 3
   },
   "file_extension": ".py",
   "mimetype": "text/x-python",
   "name": "python",
   "nbconvert_exporter": "python",
   "pygments_lexer": "ipython3",
   "version": "3.11.9"
  }
 },
 "nbformat": 4,
 "nbformat_minor": 5
}
