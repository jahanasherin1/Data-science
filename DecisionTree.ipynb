{
 "cells": [
  {
   "cell_type": "code",
   "execution_count": 2,
   "id": "5ef86c3b-f26b-4738-8ff9-dd04447f26d7",
   "metadata": {},
   "outputs": [
    {
     "name": "stdout",
     "output_type": "stream",
     "text": [
      "Accuracy of Decision Tree Classifier:1.0\n"
     ]
    }
   ],
   "source": [
    "# Import necessary libraries\n",
    "import numpy as np\n",
    "from sklearn.datasets import load_iris\n",
    "from sklearn.model_selection import train_test_split\n",
    "from sklearn.tree import DecisionTreeClassifier\n",
    "from sklearn.metrics import accuracy_score\n",
    "# Load the Iris dataset\n",
    "data = load_iris()\n",
    "X = data.data\n",
    "y = data.target\n",
    "# Split the dataset into training and testing sets\n",
    "X_train, X_test, y_train, y_test = train_test_split(X, y, test_size=0.2,random_state=42)\n",
    "# Create a Decision Tree Classifier\n",
    "dt_model = DecisionTreeClassifier()\n",
    "# Train the Decision Tree model\n",
    "dt_model.fit(X_train, y_train)\n",
    "# Make predictions on the test data \n",
    "y_pred = dt_model.predict(X_test)\n",
    "# Calculate the accuracy of the Decision Tree model\n",
    "accuracy = accuracy_score(y_test, y_pred)\n",
    "# Print the accuracy\n",
    "print(f'Accuracy of Decision Tree Classifier:{accuracy}')"
   ]
  },
  {
   "cell_type": "code",
   "execution_count": null,
   "id": "95895e49-095a-4fe8-886b-252059077ad2",
   "metadata": {},
   "outputs": [],
   "source": []
  }
 ],
 "metadata": {
  "kernelspec": {
   "display_name": "Python [conda env:base] *",
   "language": "python",
   "name": "conda-base-py"
  },
  "language_info": {
   "codemirror_mode": {
    "name": "ipython",
    "version": 3
   },
   "file_extension": ".py",
   "mimetype": "text/x-python",
   "name": "python",
   "nbconvert_exporter": "python",
   "pygments_lexer": "ipython3",
   "version": "3.11.9"
  }
 },
 "nbformat": 4,
 "nbformat_minor": 5
}
