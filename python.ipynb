{
 "cells": [
  {
   "cell_type": "code",
   "execution_count": 7,
   "id": "a1eb8831-f45b-4b68-a404-092b87fc45a7",
   "metadata": {},
   "outputs": [
    {
     "name": "stdin",
     "output_type": "stream",
     "text": [
      "Enter a number: 3\n",
      "Enter a number: 5\n"
     ]
    },
    {
     "name": "stdout",
     "output_type": "stream",
     "text": [
      "Result= 8\n"
     ]
    }
   ],
   "source": [
    "a=int(input(\"Enter a number:\"))\n",
    "b=int(input(\"Enter a number:\"))\n",
    "c=a+b\n",
    "print(\"Result=\",c)"
   ]
  },
  {
   "cell_type": "code",
   "execution_count": 4,
   "id": "7d2f0cb9-1ced-4d34-8980-cdd111c2deb3",
   "metadata": {},
   "outputs": [
    {
     "name": "stdin",
     "output_type": "stream",
     "text": [
      "Enter a number: 5\n",
      "Enter a number: 3\n"
     ]
    },
    {
     "name": "stdout",
     "output_type": "stream",
     "text": [
      "Result = 2\n"
     ]
    }
   ],
   "source": [
    "a=int(input(\"Enter a number:\"))\n",
    "b=int(input(\"Enter a number:\"))\n",
    "c=a-b\n",
    "print(\"Result =\",c)"
   ]
  },
  {
   "cell_type": "code",
   "execution_count": 5,
   "id": "c35a0b44-8897-4b4b-8483-3d197443cd45",
   "metadata": {},
   "outputs": [
    {
     "name": "stdin",
     "output_type": "stream",
     "text": [
      "Enter a number: 5\n",
      "Enter a number: 6\n"
     ]
    },
    {
     "name": "stdout",
     "output_type": "stream",
     "text": [
      "Result = 30\n"
     ]
    }
   ],
   "source": [
    "a=int(input(\"Enter a number:\"))\n",
    "b=int(input(\"Enter a number:\"))\n",
    "c=a*b\n",
    "print(\"Result =\",c)"
   ]
  },
  {
   "cell_type": "code",
   "execution_count": 6,
   "id": "91d8484d-a7bc-4593-bcfb-187c827732da",
   "metadata": {},
   "outputs": [
    {
     "name": "stdin",
     "output_type": "stream",
     "text": [
      "Enter a number: 60\n",
      "Enter a number: 3\n"
     ]
    },
    {
     "name": "stdout",
     "output_type": "stream",
     "text": [
      "Result = 20.0\n"
     ]
    }
   ],
   "source": [
    "a=int(input(\"Enter a number:\"))\n",
    "b=int(input(\"Enter a number:\"))\n",
    "c=a/b\n",
    "print(\"Result =\",c)"
   ]
  },
  {
   "cell_type": "code",
   "execution_count": 7,
   "id": "66478a5b-ef35-449d-b545-ec249291c87b",
   "metadata": {},
   "outputs": [
    {
     "name": "stdin",
     "output_type": "stream",
     "text": [
      "Enter a string: jahana\n",
      "Enter a string: sherin\n"
     ]
    },
    {
     "name": "stdout",
     "output_type": "stream",
     "text": [
      "Result= jahana sherin\n",
      "Result= jherin sahana\n",
      "['jherin', 'sahana']\n",
      "6\n",
      "Upper= JAHANA\n",
      "lower= jahana\n",
      "slice= ah\n"
     ]
    }
   ],
   "source": [
    "a=input(\"Enter a string:\")\n",
    "b=input(\"Enter a string:\")\n",
    "#concate\n",
    "c=a+\" \"+b\n",
    "print(\"Result=\",c)\n",
    "#swap\n",
    "d=a[0]+b[1: ]+\" \"+b[0]+a[1: ]\n",
    "print(\"Result=\",d)\n",
    "#split\n",
    "e=d.split()\n",
    "print(e)\n",
    "#length\n",
    "print(len(b))\n",
    "#uppercase\n",
    "print(\"Upper=\",a.upper())\n",
    "#lowercase\n",
    "print(\"lower=\",a.lower())\n",
    "#slice\n",
    "print(\"slice=\",a[1:3])"
   ]
  },
  {
   "cell_type": "code",
   "execution_count": 3,
   "id": "0a31f320-4f7a-4de3-84cc-bfe89b493cdb",
   "metadata": {},
   "outputs": [
    {
     "name": "stdin",
     "output_type": "stream",
     "text": [
      "Enter 1st no: 3\n",
      "Enter 2nd no: 9\n",
      "Enter 3rd no: 2\n"
     ]
    },
    {
     "name": "stdout",
     "output_type": "stream",
     "text": [
      "9 is largest\n"
     ]
    }
   ],
   "source": [
    "#boolean\n",
    "a=int(input(\"Enter 1st no:\"))\n",
    "b=int(input(\"Enter 2nd no:\"))\n",
    "c=int(input(\"Enter 3rd no:\"))\n",
    "if(a>b and a>c):\n",
    "    print(f\"{a} is largest\")\n",
    "elif(b>a and b>c):\n",
    "    print(f\"{b} is largest\")\n",
    "else:\n",
    "    print(f\"{c} is largest\")"
   ]
  },
  {
   "cell_type": "code",
   "execution_count": 6,
   "id": "4e8b89d9-f224-46b3-b2f7-37b4b34472ff",
   "metadata": {},
   "outputs": [
    {
     "name": "stdin",
     "output_type": "stream",
     "text": [
      "Enter string: jahana,frina,hadeela\n"
     ]
    },
    {
     "name": "stdout",
     "output_type": "stream",
     "text": [
      "{'frina', 'hadeela', 'jahana'}\n",
      "('jahana', 'frina', 'hadeela')\n",
      "['jahana', 'frina', 'hadeela']\n",
      "{1: 'jahana', 2: 'frina', 3: 'hadeela'}\n"
     ]
    }
   ],
   "source": [
    "#set,tuple,list,dict\n",
    "a=input(\"Enter string:\").split(\",\")\n",
    "b=set(a)\n",
    "print(b)\n",
    "c=tuple(a)\n",
    "print(c)\n",
    "d=list(a)\n",
    "print(d)\n",
    "e={1:a[0],2:a[1],3:a[2]}\n",
    "print(e)"
   ]
  },
  {
   "cell_type": "code",
   "execution_count": 8,
   "id": "06abb20a-bb05-4e41-a6cc-b4eb0615cac2",
   "metadata": {},
   "outputs": [
    {
     "name": "stdout",
     "output_type": "stream",
     "text": [
      "True\n"
     ]
    }
   ],
   "source": [
    "a=3\n",
    "b=5\n",
    "print(a<=b)\n"
   ]
  },
  {
   "cell_type": "code",
   "execution_count": null,
   "id": "5f866e13-179a-45ca-bbff-428da7f9d890",
   "metadata": {},
   "outputs": [],
   "source": []
  }
 ],
 "metadata": {
  "kernelspec": {
   "display_name": "Python 3 (ipykernel)",
   "language": "python",
   "name": "python3"
  },
  "language_info": {
   "codemirror_mode": {
    "name": "ipython",
    "version": 3
   },
   "file_extension": ".py",
   "mimetype": "text/x-python",
   "name": "python",
   "nbconvert_exporter": "python",
   "pygments_lexer": "ipython3",
   "version": "3.11.9"
  }
 },
 "nbformat": 4,
 "nbformat_minor": 5
}
