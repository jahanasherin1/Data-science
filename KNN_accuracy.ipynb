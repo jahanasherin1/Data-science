{
 "cells": [
  {
   "cell_type": "code",
   "execution_count": 8,
   "id": "9259f92c-6263-4855-b797-83f23bc7a2d1",
   "metadata": {},
   "outputs": [
    {
     "name": "stdout",
     "output_type": "stream",
     "text": [
      " Accuracy of k_NN with k=3: 1.00\n"
     ]
    }
   ],
   "source": [
    "import numpy as np\n",
    "from sklearn.datasets import load_iris\n",
    "from sklearn.model_selection import train_test_split\n",
    "from sklearn.neighbors import KNeighborsClassifier\n",
    "from sklearn.metrics import accuracy_score\n",
    "#load the iris dataset\n",
    "data = load_iris()\n",
    "X = data.data #Features\n",
    "y =  data.target #Target(labels)\n",
    "#split the dataset into training and testing sets \n",
    "X_train,X_test,y_train,y_test= train_test_split(X,y,test_size=0.2,random_state=42)\n",
    "#Initialize the K-NN classifier with a specified value of k\n",
    "k = 3\n",
    "knn = KNeighborsClassifier(n_neighbors=k)\n",
    "#fit the model on the training data\n",
    "knn.fit(X_train,y_train)\n",
    "#Make predictions on the test data \n",
    "y_pred = knn.predict(X_test)\n",
    "#Calculate the accuray of the test data\n",
    "accuracy = accuracy_score(y_test,y_pred)\n",
    "print(f' Accuracy of k_NN with k={k}: {accuracy:.2f}')\n"
   ]
  },
  {
   "cell_type": "code",
   "execution_count": null,
   "id": "9c1cb55f-238d-4bb7-9551-db22e0c1b3cf",
   "metadata": {},
   "outputs": [],
   "source": []
  }
 ],
 "metadata": {
  "kernelspec": {
   "display_name": "Python 3 (ipykernel)",
   "language": "python",
   "name": "python3"
  },
  "language_info": {
   "codemirror_mode": {
    "name": "ipython",
    "version": 3
   },
   "file_extension": ".py",
   "mimetype": "text/x-python",
   "name": "python",
   "nbconvert_exporter": "python",
   "pygments_lexer": "ipython3",
   "version": "3.11.9"
  }
 },
 "nbformat": 4,
 "nbformat_minor": 5
}
