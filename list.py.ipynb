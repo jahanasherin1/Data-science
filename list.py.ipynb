{
 "cells": [
  {
   "cell_type": "code",
   "execution_count": 1,
   "id": "5a82b630-20ec-4d5c-a4f0-a12dba43ea12",
   "metadata": {},
   "outputs": [
    {
     "name": "stdin",
     "output_type": "stream",
     "text": [
      "Enter numbers in list:  12 45 67\n"
     ]
    },
    {
     "name": "stdout",
     "output_type": "stream",
     "text": [
      "The largest number in the list is: 67\n"
     ]
    }
   ],
   "source": [
    "num = input(\"Enter numbers in list: \")\n",
    "\n",
    "num_list = list(map(int, num.split()))\n",
    "\n",
    "largest = max(num_list)  \n",
    "\n",
    "print(\"The largest number in the list is:\", largest)\n"
   ]
  },
  {
   "cell_type": "code",
   "execution_count": 3,
   "id": "dd55e5f1-cc33-4c33-bd86-818651e7f477",
   "metadata": {},
   "outputs": [
    {
     "name": "stdin",
     "output_type": "stream",
     "text": [
      "Enter numbers in list : 12,45,34,9\n"
     ]
    },
    {
     "name": "stdout",
     "output_type": "stream",
     "text": [
      "The largest number in the list is: 45\n"
     ]
    }
   ],
   "source": [
    "num = input(\"Enter numbers in list :\")\n",
    "\n",
    "num_list=list(map(int,num.split(',')))\n",
    "\n",
    "largest = num_list[0]\n",
    "\n",
    "for num in num_list:\n",
    "    if num > largest:\n",
    "        largest=num\n",
    "\n",
    "print(\"The largest number in the list is:\", largest)\n"
   ]
  },
  {
   "cell_type": "code",
   "execution_count": 5,
   "id": "d5be1304-9a60-491a-ba0b-42471d4d1406",
   "metadata": {},
   "outputs": [
    {
     "name": "stdin",
     "output_type": "stream",
     "text": [
      "Enter numbers in list:  12 45 45 78 90\n"
     ]
    },
    {
     "name": "stdout",
     "output_type": "stream",
     "text": [
      "Unique numbers in list : [12, 45, 78, 90]\n"
     ]
    }
   ],
   "source": [
    "num = input(\"Enter numbers in list: \")\n",
    "\n",
    "num_list = list(map(int, num.split()))\n",
    "\n",
    "uniq_list=list(set(num_list))\n",
    "\n",
    "uniq_list.sort()\n",
    "\n",
    "print(\"Unique numbers in list :\",uniq_list)\n"
   ]
  },
  {
   "cell_type": "code",
   "execution_count": 6,
   "id": "64191550-57a3-4011-856d-6d1869d424ee",
   "metadata": {},
   "outputs": [
    {
     "name": "stdin",
     "output_type": "stream",
     "text": [
      "Enter numbers in list : 12 45 67 45\n"
     ]
    },
    {
     "name": "stdout",
     "output_type": "stream",
     "text": [
      "Unique numbers in list : [12, 45, 67]\n"
     ]
    }
   ],
   "source": [
    "num = input(\"Enter numbers in list :\")\n",
    "\n",
    "num_list=list(map(int,num.split()))\n",
    "\n",
    "uniq_list = []\n",
    "\n",
    "for n in num_list:\n",
    "    if n not in uniq_list:\n",
    "        uniq_list.append(n)\n",
    "\n",
    "print(\"Unique numbers in list :\",uniq_list)\n"
   ]
  },
  {
   "cell_type": "code",
   "execution_count": null,
   "id": "ce28ec04-1f27-4876-a8bd-25d806d4b250",
   "metadata": {},
   "outputs": [],
   "source": []
  }
 ],
 "metadata": {
  "kernelspec": {
   "display_name": "Python 3 (ipykernel)",
   "language": "python",
   "name": "python3"
  },
  "language_info": {
   "codemirror_mode": {
    "name": "ipython",
    "version": 3
   },
   "file_extension": ".py",
   "mimetype": "text/x-python",
   "name": "python",
   "nbconvert_exporter": "python",
   "pygments_lexer": "ipython3",
   "version": "3.11.9"
  }
 },
 "nbformat": 4,
 "nbformat_minor": 5
}
